{
 "cells": [
  {
   "cell_type": "code",
   "execution_count": 1,
   "id": "05c4eb95",
   "metadata": {},
   "outputs": [],
   "source": [
    "import pandas as pd\n",
    "from sklearn.feature_extraction.text import CountVectorizer\n",
    "from sklearn.model_selection import train_test_split\n",
    "from sklearn.linear_model import LogisticRegression\n",
    "from sklearn.metrics import accuracy_score, precision_score, recall_score, f1_score\n",
    "import seaborn as sns\n",
    "import matplotlib.pyplot as plt\n",
    "\n",
    "\n",
    "# Load the dataset\n",
    "data = pd.read_csv(r'enronSpamSubset.csv')\n",
    "\n",
    "# Split the dataset into training and testing data\n",
    "X = data[\"Body\"].values\n",
    "y = data['Label'].values\n",
    "\n",
    "X_train, X_test, y_train, y_test = train_test_split(X, y, test_size=0.2, random_state=42)\n",
    "\n",
    "\n",
    "# Convert email text into numerical features using CountVectorizer\n",
    "vectorizer = CountVectorizer()\n",
    "X_train_vec = vectorizer.fit_transform(X_train)\n",
    "X_test_vec = vectorizer.transform(X_test)"
   ]
  },
  {
   "cell_type": "code",
   "execution_count": 2,
   "id": "3d7e5425",
   "metadata": {},
   "outputs": [
    {
     "data": {
      "text/plain": [
       "Text(0.5, 1.0, 'Number of spams and hams')"
      ]
     },
     "execution_count": 2,
     "metadata": {},
     "output_type": "execute_result"
    },
    {
     "data": {
      "image/png": "[encoded data removed]",
      "text/plain": [
       "<Figure size 640x480 with 1 Axes>"
      ]
     },
     "metadata": {},
     "output_type": "display_data"
    }
   ],
   "source": [
    "sns.countplot(data=data,x=\"Label\");\n",
    "plt.title(\"Number of spams and hams\")"
   ]
  },
  {
   "cell_type": "code",
   "execution_count": 3,
   "id": "af9a2b21",
   "metadata": {},
   "outputs": [
    {
     "name": "stdout",
     "output_type": "stream",
     "text": [
      "Accuracy: 98.7\n",
      "Precision: 98.14453125\n",
      "Recall: 99.30830039525692\n",
      "F1 Score: 98.7229862475442\n"
     ]
    }
   ],
   "source": [
    "# Train the Logistic Regression model\n",
    "model = LogisticRegression(max_iter=1000)\n",
    "model.fit(X_train_vec, y_train)\n",
    "\n",
    "# Make predictions on the test data\n",
    "y_pred = model.predict(X_test_vec)\n",
    "# Evaluate the model\n",
    "accuracy = accuracy_score(y_test, y_pred)\n",
    "precision = precision_score(y_test, y_pred, pos_label=1)\n",
    "recall = recall_score(y_test, y_pred, pos_label=1)\n",
    "f1 = f1_score(y_test, y_pred, pos_label=1)\n",
    "\n",
    "# Print the model performance metrics\n",
    "print(\"Accuracy:\", accuracy*100)\n",
    "print(\"Precision:\", precision*100)\n",
    "print(\"Recall:\", recall*100)\n",
    "print(\"F1 Score:\", f1*100)"
   ]
  },
  {
   "cell_type": "code",
   "execution_count": 4,
   "id": "3e116c95",
   "metadata": {
    "scrolled": true
   },
   "outputs": [
    {
     "name": "stdout",
     "output_type": "stream",
     "text": [
      "Accuracy: 93.30000000000001\n",
      "Precision: 97.61388286334056\n",
      "Recall: 88.93280632411067\n",
      "F1 Score: 93.07135470527405\n"
     ]
    }
   ],
   "source": [
    "from sklearn.naive_bayes import GaussianNB\n",
    "\n",
    "X_train_dense = X_train_vec.toarray()\n",
    "X_test_dense = X_test_vec.toarray()\n",
    "\n",
    "# Build a Gaussian Classifier\n",
    "model = GaussianNB()\n",
    "\n",
    "# Fit the model with the dense training data\n",
    "model.fit(X_train_dense, y_train)\n",
    "\n",
    "# Make predictions on the test data\n",
    "y_pred = model.predict(X_test_dense)\n",
    "\n",
    "# Evaluate the model\n",
    "accuracy = accuracy_score(y_test, y_pred)\n",
    "precision = precision_score(y_test, y_pred, pos_label=1)\n",
    "recall = recall_score(y_test, y_pred, pos_label=1)\n",
    "f1 = f1_score(y_test, y_pred, pos_label=1)\n",
    "\n",
    "# Print the model performance metrics\n",
    "print(\"Accuracy:\", accuracy * 100)\n",
    "print(\"Precision:\", precision * 100)\n",
    "print(\"Recall:\", recall * 100)\n",
    "print(\"F1 Score:\", f1 * 100)"
   ]
  },
  {
   "cell_type": "code",
   "execution_count": 5,
   "id": "c5f3d630",
   "metadata": {},
   "outputs": [
    {
     "name": "stdout",
     "output_type": "stream",
     "text": [
      "Accuracy: 94.55\n",
      "Precision: 93.87755102040816\n",
      "Recall: 95.45454545454545\n",
      "F1 Score: 94.65948064674178\n"
     ]
    }
   ],
   "source": [
    "from sklearn.tree import DecisionTreeClassifier\n",
    "\n",
    "# Build a Decision Tree Classifier\n",
    "model = DecisionTreeClassifier(random_state=42)\n",
    "\n",
    "# Fit the model with the dense training data\n",
    "model.fit(X_train_vec, y_train)\n",
    "\n",
    "# Make predictions on the test data\n",
    "y_pred = model.predict(X_test_vec)\n",
    "\n",
    "# Evaluate the model\n",
    "accuracy = accuracy_score(y_test, y_pred)\n",
    "precision = precision_score(y_test, y_pred, pos_label=1)\n",
    "recall = recall_score(y_test, y_pred, pos_label=1)\n",
    "f1 = f1_score(y_test, y_pred, pos_label=1)\n",
    "\n",
    "# Print the model performance metrics\n",
    "print(\"Accuracy:\", accuracy * 100)\n",
    "print(\"Precision:\", precision * 100)\n",
    "print(\"Recall:\", recall * 100)\n",
    "print(\"F1 Score:\", f1 * 100)"
   ]
  },
  {
   "cell_type": "code",
   "execution_count": 6,
   "id": "bfacdf35",
   "metadata": {
    "scrolled": true
   },
   "outputs": [
    {
     "name": "stdout",
     "output_type": "stream",
     "text": [
      "Accuracy: 93.95\n",
      "Precision: 90.2439024390244\n",
      "Recall: 98.71541501976284\n",
      "F1 Score: 94.28975932043417\n"
     ]
    }
   ],
   "source": [
    "from sklearn.svm import SVC\n",
    "\n",
    "# Build an SVM Classifier\n",
    "model = SVC(kernel='rbf', C=1.0, random_state=42)\n",
    "\n",
    "# Fit the model with the training data\n",
    "model.fit(X_train_vec, y_train)\n",
    "\n",
    "# Make predictions on the test data\n",
    "y_pred = model.predict(X_test_vec)\n",
    "\n",
    "# Evaluate the model\n",
    "accuracy = accuracy_score(y_test, y_pred)\n",
    "precision = precision_score(y_test, y_pred, pos_label=1)\n",
    "recall = recall_score(y_test, y_pred, pos_label=1)\n",
    "f1 = f1_score(y_test, y_pred, pos_label=1)\n",
    "\n",
    "# Print the model performance metrics\n",
    "print(\"Accuracy:\", accuracy * 100)\n",
    "print(\"Precision:\", precision * 100)\n",
    "print(\"Recall:\", recall * 100)\n",
    "print(\"F1 Score:\", f1 * 100)"
   ]
  },
  {
   "cell_type": "code",
   "execution_count": 7,
   "id": "d5c83363",
   "metadata": {
    "scrolled": true
   },
   "outputs": [
    {
     "name": "stdout",
     "output_type": "stream",
     "text": [
      "Accuracy: 97.95\n",
      "Precision: 97.64474975466143\n",
      "Recall: 98.3201581027668\n",
      "F1 Score: 97.98129000492366\n"
     ]
    }
   ],
   "source": [
    "from sklearn.ensemble import RandomForestClassifier\n",
    "\n",
    "# Build a Random Forest Classifier\n",
    "model = RandomForestClassifier(n_estimators=50, random_state=42)\n",
    "\n",
    "# Fit the model with the training data\n",
    "model.fit(X_train_vec, y_train)\n",
    "\n",
    "# Make predictions on the test data\n",
    "y_pred = model.predict(X_test_vec)\n",
    "\n",
    "# Evaluate the model\n",
    "accuracy = accuracy_score(y_test, y_pred)\n",
    "precision = precision_score(y_test, y_pred, pos_label=1)\n",
    "recall = recall_score(y_test, y_pred, pos_label=1)\n",
    "f1 = f1_score(y_test, y_pred, pos_label=1)\n",
    "\n",
    "# Print the model performance metrics\n",
    "print(\"Accuracy:\", accuracy * 100)\n",
    "print(\"Precision:\", precision * 100)\n",
    "print(\"Recall:\", recall * 100)\n",
    "print(\"F1 Score:\", f1 * 100)"
   ]
  }
 ],
 "metadata": {
  "kernelspec": {
   "display_name": "Python 3 (ipykernel)",
   "language": "python",
   "name": "python3"
  },
  "language_info": {
   "codemirror_mode": {
    "name": "ipython",
    "version": 3
   },
   "file_extension": ".py",
   "mimetype": "text/x-python",
   "name": "python",
   "nbconvert_exporter": "python",
   "pygments_lexer": "ipython3",
   "version": "3.9.7"
  }
 },
 "nbformat": 4,
 "nbformat_minor": 5
}
