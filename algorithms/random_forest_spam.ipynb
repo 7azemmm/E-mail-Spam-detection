{
 "cells": [
  {
   "cell_type": "code",
   "execution_count": 1,
   "metadata": {},
   "outputs": [],
   "source": [
    "import pandas as pd\n",
    "import matplotlib.pyplot as plt\n",
    "from sklearn.model_selection import train_test_split\n",
    "from sklearn.feature_extraction.text import CountVectorizer\n",
    "from sklearn.ensemble import RandomForestClassifier\n",
    "from sklearn.metrics import accuracy_score, precision_score, recall_score, f1_score\n"
   ]
  },
  {
   "cell_type": "code",
   "execution_count": 12,
   "metadata": {},
   "outputs": [
    {
     "data": {
      "text/html": [
       "<div>\n",
       "<style scoped>\n",
       "    .dataframe tbody tr th:only-of-type {\n",
       "        vertical-align: middle;\n",
       "    }\n",
       "\n",
       "    .dataframe tbody tr th {\n",
       "        vertical-align: top;\n",
       "    }\n",
       "\n",
       "    .dataframe thead th {\n",
       "        text-align: right;\n",
       "    }\n",
       "</style>\n",
       "<table border=\"1\" class=\"dataframe\">\n",
       "  <thead>\n",
       "    <tr style=\"text-align: right;\">\n",
       "      <th></th>\n",
       "      <th>Body</th>\n",
       "      <th>Label</th>\n",
       "    </tr>\n",
       "  </thead>\n",
       "  <tbody>\n",
       "    <tr>\n",
       "      <th>0</th>\n",
       "      <td>Subject: stock promo mover : cwtd\\r\\n * * * ur...</td>\n",
       "      <td>1</td>\n",
       "    </tr>\n",
       "    <tr>\n",
       "      <th>1</th>\n",
       "      <td>Subject: are you listed in major search engine...</td>\n",
       "      <td>1</td>\n",
       "    </tr>\n",
       "    <tr>\n",
       "      <th>2</th>\n",
       "      <td>Subject: important information thu , 30 jun 20...</td>\n",
       "      <td>1</td>\n",
       "    </tr>\n",
       "    <tr>\n",
       "      <th>3</th>\n",
       "      <td>Subject: = ? utf - 8 ? q ? bask your life with...</td>\n",
       "      <td>1</td>\n",
       "    </tr>\n",
       "    <tr>\n",
       "      <th>4</th>\n",
       "      <td>Subject: \" bidstogo \" is places to go , things...</td>\n",
       "      <td>1</td>\n",
       "    </tr>\n",
       "  </tbody>\n",
       "</table>\n",
       "</div>"
      ],
      "text/plain": [
       "                                                Body  Label\n",
       "0  Subject: stock promo mover : cwtd\\r\\n * * * ur...      1\n",
       "1  Subject: are you listed in major search engine...      1\n",
       "2  Subject: important information thu , 30 jun 20...      1\n",
       "3  Subject: = ? utf - 8 ? q ? bask your life with...      1\n",
       "4  Subject: \" bidstogo \" is places to go , things...      1"
      ]
     },
     "execution_count": 12,
     "metadata": {},
     "output_type": "execute_result"
    }
   ],
   "source": [
    "# Load the dataset\n",
    "data = pd.read_csv('../datasets/email_spam.csv').drop(\"Unnamed: 0.1\",axis=1).drop(\"Unnamed: 0\",axis=1)\n",
    "data.head()"
   ]
  },
  {
   "cell_type": "code",
   "execution_count": 3,
   "metadata": {},
   "outputs": [
    {
     "name": "stdout",
     "output_type": "stream",
     "text": [
      "Body     0\n",
      "Label    0\n",
      "dtype: int64\n"
     ]
    }
   ],
   "source": [
    "print(data.isna().sum())\n",
    "# Split the dataset into training and testing data\n",
    "X = data[\"Body\"].values\n",
    "y = data['Label'].values\n",
    "\n",
    "X_train, X_test, y_train, y_test = train_test_split(X, y, test_size=0.2, random_state=42)\n"
   ]
  },
  {
   "cell_type": "code",
   "execution_count": 4,
   "metadata": {},
   "outputs": [],
   "source": [
    "# Create a CountVectorizer to convert the text data into a bag-of-words representation\n",
    "vectorizer = CountVectorizer()\n",
    "X_train_vectorized = vectorizer.fit_transform(X_train)\n",
    "X_test_vectorized = vectorizer.transform(X_test)\n"
   ]
  },
  {
   "cell_type": "code",
   "execution_count": 6,
   "metadata": {},
   "outputs": [],
   "source": [
    "random_forest = RandomForestClassifier(n_jobs=-1, random_state=42)\n",
    "# Train the classifier\n",
    "random_forest.fit(X_train_vectorized, y_train)\n",
    "\n",
    "# Predictions on the testing set\n",
    "y_pred = random_forest.predict(X_test_vectorized)"
   ]
  },
  {
   "cell_type": "code",
   "execution_count": 11,
   "metadata": {},
   "outputs": [
    {
     "name": "stdout",
     "output_type": "stream",
     "text": [
      "The email is not classified as spam.\n"
     ]
    }
   ],
   "source": [
    "# Sample email body to test\n",
    "sample_email_body = [\"Get a special discount on our exclusive products today!\"]\n",
    "\n",
    "# Vectorize the sample email body using the same CountVectorizer\n",
    "sample_email_vectorized = vectorizer.transform(sample_email_body)\n",
    "\n",
    "# Make a prediction using the trained Random Forest classifier\n",
    "prediction = random_forest.predict(sample_email_vectorized)\n",
    "\n",
    "# Display the prediction\n",
    "if prediction[0] == 'spam':\n",
    "    print(\"The email is classified as spam.\")\n",
    "else:\n",
    "    print(\"The email is not classified as spam.\")\n"
   ]
  },
  {
   "cell_type": "code",
   "execution_count": 10,
   "metadata": {},
   "outputs": [
    {
     "name": "stdout",
     "output_type": "stream",
     "text": [
      "Accuracy: 0.98\n",
      "Precision: 0.98\n",
      "Recall: 0.98\n",
      "F1 Score: 0.98\n"
     ]
    }
   ],
   "source": [
    "\n",
    "accuracy = accuracy_score(y_test, y_pred)\n",
    "precision = precision_score(y_test, y_pred, pos_label=1)\n",
    "recall = recall_score(y_test, y_pred, pos_label=1)\n",
    "f1 = f1_score(y_test, y_pred, pos_label=1)\n",
    "\n",
    "# Print evaluation metrics\n",
    "print(f\"Accuracy: {accuracy:.2f}\")\n",
    "print(f\"Precision: {precision:.2f}\")\n",
    "print(f\"Recall: {recall:.2f}\")\n",
    "print(f\"F1 Score: {f1:.2f}\")"
   ]
  },
  {
   "cell_type": "code",
   "execution_count": 13,
   "metadata": {},
   "outputs": [
    {
     "name": "stdout",
     "output_type": "stream",
     "text": [
      "Confusion Matrix:\n",
      "[[3875  137]\n",
      " [  62 3926]]\n"
     ]
    }
   ],
   "source": [
    "from sklearn.model_selection import cross_val_predict\n",
    "from sklearn.metrics import confusion_matrix\n",
    "\n",
    "# Cross-validation predictions\n",
    "y_cv_pred = cross_val_predict(random_forest, X_train_vectorized, y_train, cv=5, n_jobs=-1)\n",
    "\n",
    "# Confusion matrix\n",
    "conf_matrix = confusion_matrix(y_train, y_cv_pred)\n",
    "print(\"Confusion Matrix:\")\n",
    "print(conf_matrix)\n"
   ]
  },
  {
   "cell_type": "code",
   "execution_count": 23,
   "metadata": {},
   "outputs": [
    {
     "name": "stdout",
     "output_type": "stream",
     "text": [
      "Number of NaN values in the target variable (Label): 0\n",
      "The email is not classified as spam.\n",
      "Accuracy: 0.98\n",
      "Precision: 0.98\n",
      "Recall: 0.98\n",
      "F1 Score: 0.98\n"
     ]
    }
   ],
   "source": [
    "import pandas as pd\n",
    "from sklearn.model_selection import train_test_split\n",
    "from sklearn.feature_extraction.text import CountVectorizer\n",
    "from sklearn.ensemble import RandomForestClassifier\n",
    "from sklearn.metrics import accuracy_score, precision_score, recall_score, f1_score\n",
    "from sklearn.impute import SimpleImputer\n",
    "\n",
    "# Load the dataset\n",
    "data = pd.read_csv('../datasets/email_spam.csv').drop([\"Unnamed: 0.1\", \"Unnamed: 0\"], axis=1)\n",
    "\n",
    "# Check for NaN values in the target variable (Label)\n",
    "nan_target_values = data['Label'].isna().sum()\n",
    "print(f\"Number of NaN values in the target variable (Label): {nan_target_values}\")\n",
    "\n",
    "# Handle missing values in the target variable\n",
    "data.dropna(subset=['Label'], inplace=True)\n",
    "# Split the dataset into training and testing data\n",
    "X = data[\"Body\"].values\n",
    "y = data['Label'].values\n",
    "\n",
    "X_train, X_test, y_train, y_test = train_test_split(X, y, test_size=0.2, random_state=42)\n",
    "\n",
    "# Create a CountVectorizer to convert the text data into a bag-of-words representation\n",
    "vectorizer = CountVectorizer()\n",
    "X_train_vectorized = vectorizer.fit_transform(X_train)\n",
    "X_test_vectorized = vectorizer.transform(X_test)\n",
    "\n",
    "# Train the classifier\n",
    "random_forest = RandomForestClassifier(n_jobs=-1, random_state=42)\n",
    "random_forest.fit(X_train_vectorized, y_train)\n",
    "\n",
    "# Predictions on the testing set\n",
    "y_pred = random_forest.predict(X_test_vectorized)\n",
    "\n",
    "# Sample email body to test\n",
    "sample_email_body = [\"Get a special discount on our exclusive products today!\"]\n",
    "\n",
    "# Vectorize the sample email body using the same CountVectorizer\n",
    "sample_email_vectorized = vectorizer.transform(sample_email_body)\n",
    "\n",
    "# Make a prediction using the trained Random Forest classifier\n",
    "prediction = random_forest.predict(sample_email_vectorized)\n",
    "\n",
    "# Display the prediction\n",
    "if prediction[0] == 'spam':\n",
    "    print(\"The email is classified as spam.\")\n",
    "else:\n",
    "    print(\"The email is not classified as spam.\")\n",
    "\n",
    "# Evaluate the model\n",
    "accuracy = accuracy_score(y_test, y_pred)\n",
    "precision = precision_score(y_test, y_pred)\n",
    "recall = recall_score(y_test, y_pred)\n",
    "f1 = f1_score(y_test, y_pred)\n",
    "\n",
    "# Print evaluation metrics\n",
    "print(f\"Accuracy: {accuracy:.2f}\")\n",
    "print(f\"Precision: {precision:.2f}\")\n",
    "print(f\"Recall: {recall:.2f}\")\n",
    "print(f\"F1 Score: {f1:.2f}\")\n"
   ]
  },
  {
   "cell_type": "code",
   "execution_count": 25,
   "metadata": {},
   "outputs": [
    {
     "name": "stdout",
     "output_type": "stream",
     "text": [
      "Number of NaN values in the target variable (Label): 0\n",
      "The email is not classified as spam.\n",
      "Model Evaluation Metrics:\n",
      "Accuracy: 0.98\n",
      "Precision: 0.98\n",
      "Recall: 0.99\n",
      "F1 Score: 0.98\n"
     ]
    }
   ],
   "source": [
    "import pandas as pd\n",
    "from sklearn.model_selection import train_test_split\n",
    "from sklearn.feature_extraction.text import TfidfVectorizer\n",
    "from sklearn.ensemble import RandomForestClassifier\n",
    "from sklearn.metrics import accuracy_score, precision_score, recall_score, f1_score\n",
    "\n",
    "# Load the dataset\n",
    "data = pd.read_csv('../datasets/email_spam.csv').drop([\"Unnamed: 0.1\", \"Unnamed: 0\"], axis=1)\n",
    "\n",
    "# Check for NaN values in the target variable (Label)\n",
    "nan_target_values = data['Label'].isna().sum()\n",
    "print(f\"Number of NaN values in the target variable (Label): {nan_target_values}\")\n",
    "\n",
    "# Handle missing values in the target variable\n",
    "data.dropna(subset=['Label'], inplace=True)\n",
    "\n",
    "# Split the dataset into training and testing data\n",
    "X = data[\"Body\"].values\n",
    "y = data['Label'].values\n",
    "\n",
    "X_train, X_test, y_train, y_test = train_test_split(X, y, test_size=0.2, random_state=42)\n",
    "\n",
    "# Create a TF-IDF Vectorizer to convert the text data into a weighted representation\n",
    "vectorizer = TfidfVectorizer(max_features=5000, stop_words='english', ngram_range=(1, 2))\n",
    "X_train_vectorized = vectorizer.fit_transform(X_train)\n",
    "X_test_vectorized = vectorizer.transform(X_test)\n",
    "\n",
    "# Train the classifier\n",
    "random_forest = RandomForestClassifier(n_jobs=-1, random_state=42)\n",
    "random_forest.fit(X_train_vectorized, y_train)\n",
    "\n",
    "# Predictions on the testing set\n",
    "y_pred = random_forest.predict(X_test_vectorized)\n",
    "\n",
    "# Sample email body to test\n",
    "sample_email_body = [\"Get a special discount on our exclusive products today!\"]\n",
    "\n",
    "# Vectorize the sample email body using the same TF-IDF Vectorizer\n",
    "sample_email_vectorized = vectorizer.transform(sample_email_body)\n",
    "\n",
    "# Make a prediction using the trained Random Forest classifier\n",
    "prediction = random_forest.predict(sample_email_vectorized)\n",
    "\n",
    "# Display the prediction\n",
    "if prediction[0] == 'spam':\n",
    "    print(\"The email is classified as spam.\")\n",
    "else:\n",
    "    print(\"The email is not classified as spam.\")\n",
    "\n",
    "# Evaluate the model\n",
    "accuracy = accuracy_score(y_test, y_pred)\n",
    "precision = precision_score(y_test, y_pred)\n",
    "recall = recall_score(y_test, y_pred)\n",
    "f1 = f1_score(y_test, y_pred)\n",
    "\n",
    "# Print evaluation metrics\n",
    "print(\"Model Evaluation Metrics:\")\n",
    "print(f\"Accuracy: {accuracy:.2f}\")\n",
    "print(f\"Precision: {precision:.2f}\")\n",
    "print(f\"Recall: {recall:.2f}\")\n",
    "print(f\"F1 Score: {f1:.2f}\")\n"
   ]
  }
 ],
 "metadata": {
  "kernelspec": {
   "display_name": "Python 3",
   "language": "python",
   "name": "python3"
  },
  "language_info": {
   "codemirror_mode": {
    "name": "ipython",
    "version": 3
   },
   "file_extension": ".py",
   "mimetype": "text/x-python",
   "name": "python",
   "nbconvert_exporter": "python",
   "pygments_lexer": "ipython3",
   "version": "3.11.3"
  }
 },
 "nbformat": 4,
 "nbformat_minor": 2
}
